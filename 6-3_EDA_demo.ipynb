{
 "cells": [
  {
   "cell_type": "markdown",
   "id": "1669340a",
   "metadata": {},
   "source": [
    "# Lecture 6-3\n",
    "\n",
    "# Exploratory Data Analysis with Seaborn\n",
    "\n",
    "## Week 6 Friday\n",
    "\n",
    "## Miles Chen, PhD"
   ]
  },
  {
   "cell_type": "markdown",
   "id": "yellow-george",
   "metadata": {},
   "source": [
    "# Import NHANES Data"
   ]
  },
  {
   "cell_type": "markdown",
   "id": "invalid-period",
   "metadata": {},
   "source": [
    "We will work with data from NHANES - National Health and Nutrition Examination Survey.\n",
    "\n",
    "https://wwwn.cdc.gov/Nchs/Nhanes/\n",
    "\n",
    "We merge two tables from NHANES. \n",
    "\n",
    "1) The Demographic information table (DEMO_I) which contains information about the patients' sexes and ages.\n",
    "2) The Body measures table (BMX_I) which contains information about the height, weight, and other measures.\n",
    "\n",
    "There are many variables.\n",
    "\n",
    "Data Dictionaries\n",
    "\n",
    "https://wwwn.cdc.gov/Nchs/Nhanes/2015-2016/DEMO_I.htm\n",
    "\n",
    "https://wwwn.cdc.gov/Nchs/Nhanes/2015-2016/BMX_I.htm"
   ]
  },
  {
   "cell_type": "code",
   "execution_count": 1,
   "id": "realistic-interim",
   "metadata": {},
   "outputs": [],
   "source": [
    "import pandas as pd\n",
    "import numpy as np\n",
    "import matplotlib.pyplot as plt\n",
    "import seaborn as sns"
   ]
  },
  {
   "cell_type": "code",
   "execution_count": 2,
   "id": "enclosed-iceland",
   "metadata": {},
   "outputs": [],
   "source": [
    "bmx = pd.read_sas('BMX_I.XPT')"
   ]
  },
  {
   "cell_type": "code",
   "execution_count": 3,
   "id": "increased-chemistry",
   "metadata": {},
   "outputs": [],
   "source": [
    "demo = pd.read_sas('DEMO_I.XPT')"
   ]
  },
  {
   "cell_type": "code",
   "execution_count": 4,
   "id": "pretty-marshall",
   "metadata": {},
   "outputs": [],
   "source": [
    "merged = bmx.merge(right = demo, on = 'SEQN')"
   ]
  },
  {
   "cell_type": "code",
   "execution_count": 5,
   "id": "wired-condition",
   "metadata": {},
   "outputs": [
    {
     "data": {
      "text/html": [
       "<div>\n",
       "<style scoped>\n",
       "    .dataframe tbody tr th:only-of-type {\n",
       "        vertical-align: middle;\n",
       "    }\n",
       "\n",
       "    .dataframe tbody tr th {\n",
       "        vertical-align: top;\n",
       "    }\n",
       "\n",
       "    .dataframe thead th {\n",
       "        text-align: right;\n",
       "    }\n",
       "</style>\n",
       "<table border=\"1\" class=\"dataframe\">\n",
       "  <thead>\n",
       "    <tr style=\"text-align: right;\">\n",
       "      <th></th>\n",
       "      <th>SEQN</th>\n",
       "      <th>BMDSTATS</th>\n",
       "      <th>BMXWT</th>\n",
       "      <th>BMIWT</th>\n",
       "      <th>BMXRECUM</th>\n",
       "      <th>BMIRECUM</th>\n",
       "      <th>BMXHEAD</th>\n",
       "      <th>BMIHEAD</th>\n",
       "      <th>BMXHT</th>\n",
       "      <th>BMIHT</th>\n",
       "      <th>...</th>\n",
       "      <th>DMDHREDU</th>\n",
       "      <th>DMDHRMAR</th>\n",
       "      <th>DMDHSEDU</th>\n",
       "      <th>WTINT2YR</th>\n",
       "      <th>WTMEC2YR</th>\n",
       "      <th>SDMVPSU</th>\n",
       "      <th>SDMVSTRA</th>\n",
       "      <th>INDHHIN2</th>\n",
       "      <th>INDFMIN2</th>\n",
       "      <th>INDFMPIR</th>\n",
       "    </tr>\n",
       "  </thead>\n",
       "  <tbody>\n",
       "    <tr>\n",
       "      <th>0</th>\n",
       "      <td>83732.0</td>\n",
       "      <td>1.0</td>\n",
       "      <td>94.8</td>\n",
       "      <td>NaN</td>\n",
       "      <td>NaN</td>\n",
       "      <td>NaN</td>\n",
       "      <td>NaN</td>\n",
       "      <td>NaN</td>\n",
       "      <td>184.5</td>\n",
       "      <td>NaN</td>\n",
       "      <td>...</td>\n",
       "      <td>5.0</td>\n",
       "      <td>1.0</td>\n",
       "      <td>3.0</td>\n",
       "      <td>134671.370419</td>\n",
       "      <td>135629.507405</td>\n",
       "      <td>1.0</td>\n",
       "      <td>125.0</td>\n",
       "      <td>10.0</td>\n",
       "      <td>10.0</td>\n",
       "      <td>4.390000e+00</td>\n",
       "    </tr>\n",
       "    <tr>\n",
       "      <th>1</th>\n",
       "      <td>83733.0</td>\n",
       "      <td>1.0</td>\n",
       "      <td>90.4</td>\n",
       "      <td>NaN</td>\n",
       "      <td>NaN</td>\n",
       "      <td>NaN</td>\n",
       "      <td>NaN</td>\n",
       "      <td>NaN</td>\n",
       "      <td>171.4</td>\n",
       "      <td>NaN</td>\n",
       "      <td>...</td>\n",
       "      <td>3.0</td>\n",
       "      <td>3.0</td>\n",
       "      <td>NaN</td>\n",
       "      <td>24328.560239</td>\n",
       "      <td>25282.425927</td>\n",
       "      <td>1.0</td>\n",
       "      <td>125.0</td>\n",
       "      <td>4.0</td>\n",
       "      <td>4.0</td>\n",
       "      <td>1.320000e+00</td>\n",
       "    </tr>\n",
       "    <tr>\n",
       "      <th>2</th>\n",
       "      <td>83734.0</td>\n",
       "      <td>1.0</td>\n",
       "      <td>83.4</td>\n",
       "      <td>NaN</td>\n",
       "      <td>NaN</td>\n",
       "      <td>NaN</td>\n",
       "      <td>NaN</td>\n",
       "      <td>NaN</td>\n",
       "      <td>170.1</td>\n",
       "      <td>NaN</td>\n",
       "      <td>...</td>\n",
       "      <td>3.0</td>\n",
       "      <td>1.0</td>\n",
       "      <td>3.0</td>\n",
       "      <td>12400.008522</td>\n",
       "      <td>12575.838818</td>\n",
       "      <td>1.0</td>\n",
       "      <td>131.0</td>\n",
       "      <td>5.0</td>\n",
       "      <td>5.0</td>\n",
       "      <td>1.510000e+00</td>\n",
       "    </tr>\n",
       "    <tr>\n",
       "      <th>3</th>\n",
       "      <td>83735.0</td>\n",
       "      <td>1.0</td>\n",
       "      <td>109.8</td>\n",
       "      <td>NaN</td>\n",
       "      <td>NaN</td>\n",
       "      <td>NaN</td>\n",
       "      <td>NaN</td>\n",
       "      <td>NaN</td>\n",
       "      <td>160.9</td>\n",
       "      <td>NaN</td>\n",
       "      <td>...</td>\n",
       "      <td>5.0</td>\n",
       "      <td>6.0</td>\n",
       "      <td>NaN</td>\n",
       "      <td>102717.995647</td>\n",
       "      <td>102078.634508</td>\n",
       "      <td>1.0</td>\n",
       "      <td>131.0</td>\n",
       "      <td>10.0</td>\n",
       "      <td>10.0</td>\n",
       "      <td>5.000000e+00</td>\n",
       "    </tr>\n",
       "    <tr>\n",
       "      <th>4</th>\n",
       "      <td>83736.0</td>\n",
       "      <td>3.0</td>\n",
       "      <td>55.2</td>\n",
       "      <td>NaN</td>\n",
       "      <td>NaN</td>\n",
       "      <td>NaN</td>\n",
       "      <td>NaN</td>\n",
       "      <td>NaN</td>\n",
       "      <td>164.9</td>\n",
       "      <td>NaN</td>\n",
       "      <td>...</td>\n",
       "      <td>4.0</td>\n",
       "      <td>3.0</td>\n",
       "      <td>NaN</td>\n",
       "      <td>17627.674984</td>\n",
       "      <td>18234.736219</td>\n",
       "      <td>2.0</td>\n",
       "      <td>126.0</td>\n",
       "      <td>7.0</td>\n",
       "      <td>7.0</td>\n",
       "      <td>1.230000e+00</td>\n",
       "    </tr>\n",
       "    <tr>\n",
       "      <th>...</th>\n",
       "      <td>...</td>\n",
       "      <td>...</td>\n",
       "      <td>...</td>\n",
       "      <td>...</td>\n",
       "      <td>...</td>\n",
       "      <td>...</td>\n",
       "      <td>...</td>\n",
       "      <td>...</td>\n",
       "      <td>...</td>\n",
       "      <td>...</td>\n",
       "      <td>...</td>\n",
       "      <td>...</td>\n",
       "      <td>...</td>\n",
       "      <td>...</td>\n",
       "      <td>...</td>\n",
       "      <td>...</td>\n",
       "      <td>...</td>\n",
       "      <td>...</td>\n",
       "      <td>...</td>\n",
       "      <td>...</td>\n",
       "      <td>...</td>\n",
       "    </tr>\n",
       "    <tr>\n",
       "      <th>9539</th>\n",
       "      <td>93698.0</td>\n",
       "      <td>4.0</td>\n",
       "      <td>NaN</td>\n",
       "      <td>NaN</td>\n",
       "      <td>NaN</td>\n",
       "      <td>NaN</td>\n",
       "      <td>NaN</td>\n",
       "      <td>NaN</td>\n",
       "      <td>NaN</td>\n",
       "      <td>NaN</td>\n",
       "      <td>...</td>\n",
       "      <td>1.0</td>\n",
       "      <td>2.0</td>\n",
       "      <td>NaN</td>\n",
       "      <td>9594.802391</td>\n",
       "      <td>9896.007775</td>\n",
       "      <td>1.0</td>\n",
       "      <td>121.0</td>\n",
       "      <td>6.0</td>\n",
       "      <td>6.0</td>\n",
       "      <td>5.100000e-01</td>\n",
       "    </tr>\n",
       "    <tr>\n",
       "      <th>9540</th>\n",
       "      <td>93699.0</td>\n",
       "      <td>1.0</td>\n",
       "      <td>29.0</td>\n",
       "      <td>NaN</td>\n",
       "      <td>NaN</td>\n",
       "      <td>NaN</td>\n",
       "      <td>NaN</td>\n",
       "      <td>NaN</td>\n",
       "      <td>126.2</td>\n",
       "      <td>NaN</td>\n",
       "      <td>...</td>\n",
       "      <td>5.0</td>\n",
       "      <td>1.0</td>\n",
       "      <td>NaN</td>\n",
       "      <td>9871.384668</td>\n",
       "      <td>9875.921047</td>\n",
       "      <td>1.0</td>\n",
       "      <td>129.0</td>\n",
       "      <td>15.0</td>\n",
       "      <td>15.0</td>\n",
       "      <td>4.580000e+00</td>\n",
       "    </tr>\n",
       "    <tr>\n",
       "      <th>9541</th>\n",
       "      <td>93700.0</td>\n",
       "      <td>1.0</td>\n",
       "      <td>78.2</td>\n",
       "      <td>NaN</td>\n",
       "      <td>NaN</td>\n",
       "      <td>NaN</td>\n",
       "      <td>NaN</td>\n",
       "      <td>NaN</td>\n",
       "      <td>173.3</td>\n",
       "      <td>NaN</td>\n",
       "      <td>...</td>\n",
       "      <td>1.0</td>\n",
       "      <td>1.0</td>\n",
       "      <td>1.0</td>\n",
       "      <td>42314.288108</td>\n",
       "      <td>43194.215112</td>\n",
       "      <td>1.0</td>\n",
       "      <td>126.0</td>\n",
       "      <td>1.0</td>\n",
       "      <td>1.0</td>\n",
       "      <td>5.397605e-79</td>\n",
       "    </tr>\n",
       "    <tr>\n",
       "      <th>9542</th>\n",
       "      <td>93701.0</td>\n",
       "      <td>1.0</td>\n",
       "      <td>28.8</td>\n",
       "      <td>NaN</td>\n",
       "      <td>NaN</td>\n",
       "      <td>NaN</td>\n",
       "      <td>NaN</td>\n",
       "      <td>NaN</td>\n",
       "      <td>126.0</td>\n",
       "      <td>NaN</td>\n",
       "      <td>...</td>\n",
       "      <td>5.0</td>\n",
       "      <td>1.0</td>\n",
       "      <td>5.0</td>\n",
       "      <td>42087.657815</td>\n",
       "      <td>48252.504294</td>\n",
       "      <td>2.0</td>\n",
       "      <td>124.0</td>\n",
       "      <td>15.0</td>\n",
       "      <td>15.0</td>\n",
       "      <td>4.220000e+00</td>\n",
       "    </tr>\n",
       "    <tr>\n",
       "      <th>9543</th>\n",
       "      <td>93702.0</td>\n",
       "      <td>1.0</td>\n",
       "      <td>58.3</td>\n",
       "      <td>NaN</td>\n",
       "      <td>NaN</td>\n",
       "      <td>NaN</td>\n",
       "      <td>NaN</td>\n",
       "      <td>NaN</td>\n",
       "      <td>165.0</td>\n",
       "      <td>NaN</td>\n",
       "      <td>...</td>\n",
       "      <td>5.0</td>\n",
       "      <td>5.0</td>\n",
       "      <td>NaN</td>\n",
       "      <td>107361.906644</td>\n",
       "      <td>105080.445194</td>\n",
       "      <td>2.0</td>\n",
       "      <td>119.0</td>\n",
       "      <td>10.0</td>\n",
       "      <td>7.0</td>\n",
       "      <td>3.540000e+00</td>\n",
       "    </tr>\n",
       "  </tbody>\n",
       "</table>\n",
       "<p>9544 rows × 72 columns</p>\n",
       "</div>"
      ],
      "text/plain": [
       "         SEQN  BMDSTATS  BMXWT  BMIWT  BMXRECUM  BMIRECUM  BMXHEAD  BMIHEAD  \\\n",
       "0     83732.0       1.0   94.8    NaN       NaN       NaN      NaN      NaN   \n",
       "1     83733.0       1.0   90.4    NaN       NaN       NaN      NaN      NaN   \n",
       "2     83734.0       1.0   83.4    NaN       NaN       NaN      NaN      NaN   \n",
       "3     83735.0       1.0  109.8    NaN       NaN       NaN      NaN      NaN   \n",
       "4     83736.0       3.0   55.2    NaN       NaN       NaN      NaN      NaN   \n",
       "...       ...       ...    ...    ...       ...       ...      ...      ...   \n",
       "9539  93698.0       4.0    NaN    NaN       NaN       NaN      NaN      NaN   \n",
       "9540  93699.0       1.0   29.0    NaN       NaN       NaN      NaN      NaN   \n",
       "9541  93700.0       1.0   78.2    NaN       NaN       NaN      NaN      NaN   \n",
       "9542  93701.0       1.0   28.8    NaN       NaN       NaN      NaN      NaN   \n",
       "9543  93702.0       1.0   58.3    NaN       NaN       NaN      NaN      NaN   \n",
       "\n",
       "      BMXHT  BMIHT  ...  DMDHREDU  DMDHRMAR  DMDHSEDU       WTINT2YR  \\\n",
       "0     184.5    NaN  ...       5.0       1.0       3.0  134671.370419   \n",
       "1     171.4    NaN  ...       3.0       3.0       NaN   24328.560239   \n",
       "2     170.1    NaN  ...       3.0       1.0       3.0   12400.008522   \n",
       "3     160.9    NaN  ...       5.0       6.0       NaN  102717.995647   \n",
       "4     164.9    NaN  ...       4.0       3.0       NaN   17627.674984   \n",
       "...     ...    ...  ...       ...       ...       ...            ...   \n",
       "9539    NaN    NaN  ...       1.0       2.0       NaN    9594.802391   \n",
       "9540  126.2    NaN  ...       5.0       1.0       NaN    9871.384668   \n",
       "9541  173.3    NaN  ...       1.0       1.0       1.0   42314.288108   \n",
       "9542  126.0    NaN  ...       5.0       1.0       5.0   42087.657815   \n",
       "9543  165.0    NaN  ...       5.0       5.0       NaN  107361.906644   \n",
       "\n",
       "           WTMEC2YR  SDMVPSU  SDMVSTRA  INDHHIN2  INDFMIN2      INDFMPIR  \n",
       "0     135629.507405      1.0     125.0      10.0      10.0  4.390000e+00  \n",
       "1      25282.425927      1.0     125.0       4.0       4.0  1.320000e+00  \n",
       "2      12575.838818      1.0     131.0       5.0       5.0  1.510000e+00  \n",
       "3     102078.634508      1.0     131.0      10.0      10.0  5.000000e+00  \n",
       "4      18234.736219      2.0     126.0       7.0       7.0  1.230000e+00  \n",
       "...             ...      ...       ...       ...       ...           ...  \n",
       "9539    9896.007775      1.0     121.0       6.0       6.0  5.100000e-01  \n",
       "9540    9875.921047      1.0     129.0      15.0      15.0  4.580000e+00  \n",
       "9541   43194.215112      1.0     126.0       1.0       1.0  5.397605e-79  \n",
       "9542   48252.504294      2.0     124.0      15.0      15.0  4.220000e+00  \n",
       "9543  105080.445194      2.0     119.0      10.0       7.0  3.540000e+00  \n",
       "\n",
       "[9544 rows x 72 columns]"
      ]
     },
     "execution_count": 5,
     "metadata": {},
     "output_type": "execute_result"
    }
   ],
   "source": [
    "merged"
   ]
  },
  {
   "cell_type": "code",
   "execution_count": 6,
   "id": "e84eb61a",
   "metadata": {},
   "outputs": [
    {
     "name": "stdout",
     "output_type": "stream",
     "text": [
      "<class 'pandas.core.frame.DataFrame'>\n",
      "RangeIndex: 9544 entries, 0 to 9543\n",
      "Data columns (total 72 columns):\n",
      " #   Column    Non-Null Count  Dtype  \n",
      "---  ------    --------------  -----  \n",
      " 0   SEQN      9544 non-null   float64\n",
      " 1   BMDSTATS  9544 non-null   float64\n",
      " 2   BMXWT     9445 non-null   float64\n",
      " 3   BMIWT     443 non-null    float64\n",
      " 4   BMXRECUM  1073 non-null   float64\n",
      " 5   BMIRECUM  33 non-null     float64\n",
      " 6   BMXHEAD   215 non-null    float64\n",
      " 7   BMIHEAD   0 non-null      float64\n",
      " 8   BMXHT     8769 non-null   float64\n",
      " 9   BMIHT     105 non-null    float64\n",
      " 10  BMXBMI    8756 non-null   float64\n",
      " 11  BMDBMIC   3340 non-null   float64\n",
      " 12  BMXLEG    7110 non-null   float64\n",
      " 13  BMILEG    402 non-null    float64\n",
      " 14  BMXARML   8976 non-null   float64\n",
      " 15  BMIARML   420 non-null    float64\n",
      " 16  BMXARMC   8976 non-null   float64\n",
      " 17  BMIARMC   421 non-null    float64\n",
      " 18  BMXWAIST  8313 non-null   float64\n",
      " 19  BMIWAIST  489 non-null    float64\n",
      " 20  BMXSAD1   6983 non-null   float64\n",
      " 21  BMXSAD2   6983 non-null   float64\n",
      " 22  BMXSAD3   353 non-null    float64\n",
      " 23  BMXSAD4   353 non-null    float64\n",
      " 24  BMDAVSAD  6983 non-null   float64\n",
      " 25  BMDSADCM  446 non-null    float64\n",
      " 26  SDDSRVYR  9544 non-null   float64\n",
      " 27  RIDSTATR  9544 non-null   float64\n",
      " 28  RIAGENDR  9544 non-null   float64\n",
      " 29  RIDAGEYR  9544 non-null   float64\n",
      " 30  RIDAGEMN  662 non-null    float64\n",
      " 31  RIDRETH1  9544 non-null   float64\n",
      " 32  RIDRETH3  9544 non-null   float64\n",
      " 33  RIDEXMON  9544 non-null   float64\n",
      " 34  RIDEXAGM  4060 non-null   float64\n",
      " 35  DMQMILIZ  5887 non-null   float64\n",
      " 36  DMQADFC   507 non-null    float64\n",
      " 37  DMDBORN4  9544 non-null   float64\n",
      " 38  DMDCITZN  9542 non-null   float64\n",
      " 39  DMDYRSUS  2135 non-null   float64\n",
      " 40  DMDEDUC3  2546 non-null   float64\n",
      " 41  DMDEDUC2  5474 non-null   float64\n",
      " 42  DMDMARTL  5474 non-null   float64\n",
      " 43  RIDEXPRG  1240 non-null   float64\n",
      " 44  SIALANG   9544 non-null   float64\n",
      " 45  SIAPROXY  9543 non-null   float64\n",
      " 46  SIAINTRP  9544 non-null   float64\n",
      " 47  FIALANG   9277 non-null   float64\n",
      " 48  FIAPROXY  9277 non-null   float64\n",
      " 49  FIAINTRP  9277 non-null   float64\n",
      " 50  MIALANG   6977 non-null   float64\n",
      " 51  MIAPROXY  6978 non-null   float64\n",
      " 52  MIAINTRP  6978 non-null   float64\n",
      " 53  AIALANGA  5962 non-null   float64\n",
      " 54  DMDHHSIZ  9544 non-null   float64\n",
      " 55  DMDFMSIZ  9544 non-null   float64\n",
      " 56  DMDHHSZA  9544 non-null   float64\n",
      " 57  DMDHHSZB  9544 non-null   float64\n",
      " 58  DMDHHSZE  9544 non-null   float64\n",
      " 59  DMDHRGND  9544 non-null   float64\n",
      " 60  DMDHRAGE  9544 non-null   float64\n",
      " 61  DMDHRBR4  9203 non-null   float64\n",
      " 62  DMDHREDU  9203 non-null   float64\n",
      " 63  DMDHRMAR  9484 non-null   float64\n",
      " 64  DMDHSEDU  5052 non-null   float64\n",
      " 65  WTINT2YR  9544 non-null   float64\n",
      " 66  WTMEC2YR  9544 non-null   float64\n",
      " 67  SDMVPSU   9544 non-null   float64\n",
      " 68  SDMVSTRA  9544 non-null   float64\n",
      " 69  INDHHIN2  9262 non-null   float64\n",
      " 70  INDFMIN2  9277 non-null   float64\n",
      " 71  INDFMPIR  8609 non-null   float64\n",
      "dtypes: float64(72)\n",
      "memory usage: 5.2 MB\n"
     ]
    }
   ],
   "source": [
    "merged.info()"
   ]
  },
  {
   "cell_type": "markdown",
   "id": "owned-horror",
   "metadata": {},
   "source": [
    "## Do baby boys weigh more than baby girls on average?"
   ]
  },
  {
   "cell_type": "markdown",
   "id": "considered-spell",
   "metadata": {},
   "source": [
    "The variable for the age in months is `RIDAGEMN`. \n",
    "\n",
    "https://wwwn.cdc.gov/Nchs/Nhanes/2015-2016/DEMO_I.htm#RIDAGEMN\n",
    "\n",
    "The variable for gender is `RIAGENDR`\n",
    "\n",
    "https://wwwn.cdc.gov/Nchs/Nhanes/2015-2016/DEMO_I.htm#RIAGENDR\n",
    "\n",
    "The variable for the weight is `BMXWT`\n",
    "\n",
    "https://wwwn.cdc.gov/Nchs/Nhanes/2015-2016/BMX_I.htm#BMXWT"
   ]
  },
  {
   "cell_type": "markdown",
   "id": "pregnant-government",
   "metadata": {},
   "source": [
    "First, I'll calculate the mean weight of baby boys for each month, from month 0 to 12."
   ]
  },
  {
   "cell_type": "code",
   "execution_count": 7,
   "id": "romance-subsection",
   "metadata": {},
   "outputs": [],
   "source": [
    "babies = merged.loc[merged.RIDAGEMN <= 12,:].copy()  # subset to select those with age in month 12 and under, and create a copy"
   ]
  },
  {
   "cell_type": "code",
   "execution_count": 8,
   "id": "analyzed-madison",
   "metadata": {},
   "outputs": [
    {
     "data": {
      "text/plain": [
       "(399, 72)"
      ]
     },
     "execution_count": 8,
     "metadata": {},
     "output_type": "execute_result"
    }
   ],
   "source": [
    "babies.shape"
   ]
  },
  {
   "cell_type": "code",
   "execution_count": 9,
   "id": "individual-assets",
   "metadata": {},
   "outputs": [],
   "source": [
    "babies.loc[:, 'age'] = babies['RIDAGEMN'].astype(int) # create a column using the int value of age"
   ]
  },
  {
   "cell_type": "code",
   "execution_count": 10,
   "id": "friendly-trial",
   "metadata": {},
   "outputs": [],
   "source": [
    "babyboy = babies.loc[babies.RIAGENDR == 1,:]  # subset to baby boys"
   ]
  },
  {
   "cell_type": "code",
   "execution_count": 11,
   "id": "minus-century",
   "metadata": {},
   "outputs": [
    {
     "data": {
      "text/plain": [
       "(192, 73)"
      ]
     },
     "execution_count": 11,
     "metadata": {},
     "output_type": "execute_result"
    }
   ],
   "source": [
    "babyboy.shape"
   ]
  },
  {
   "cell_type": "code",
   "execution_count": 12,
   "id": "secondary-criminal",
   "metadata": {},
   "outputs": [],
   "source": [
    "boy_wts_month = babyboy.groupby('age')['BMXWT'].mean() # use pandas group_by and set mean"
   ]
  },
  {
   "cell_type": "code",
   "execution_count": 13,
   "id": "baking-kennedy",
   "metadata": {},
   "outputs": [
    {
     "name": "stdout",
     "output_type": "stream",
     "text": [
      "age\n",
      "0      4.794444\n",
      "1      5.791667\n",
      "2      6.661111\n",
      "3      7.000000\n",
      "4      7.795000\n",
      "5      8.525000\n",
      "6      8.263636\n",
      "7      9.061111\n",
      "8      9.322222\n",
      "9     10.093750\n",
      "10    10.364286\n",
      "11     9.963636\n",
      "12    10.523077\n",
      "Name: BMXWT, dtype: float64\n"
     ]
    }
   ],
   "source": [
    "print(boy_wts_month)"
   ]
  },
  {
   "cell_type": "markdown",
   "id": "greenhouse-talent",
   "metadata": {},
   "source": [
    "- We'll now Calculate the mean weight of baby girls for each month, from month 0 to 12."
   ]
  },
  {
   "cell_type": "code",
   "execution_count": 14,
   "id": "approved-complex",
   "metadata": {},
   "outputs": [],
   "source": [
    "babygirl = babies.loc[babies.RIAGENDR == 2,:]  # subset to baby girls"
   ]
  },
  {
   "cell_type": "code",
   "execution_count": 15,
   "id": "handled-oracle",
   "metadata": {},
   "outputs": [
    {
     "data": {
      "text/plain": [
       "(207, 73)"
      ]
     },
     "execution_count": 15,
     "metadata": {},
     "output_type": "execute_result"
    }
   ],
   "source": [
    "babygirl.shape"
   ]
  },
  {
   "cell_type": "code",
   "execution_count": 16,
   "id": "regular-contractor",
   "metadata": {},
   "outputs": [],
   "source": [
    "girl_wts_month = babygirl.groupby('age')['BMXWT'].mean() # use pandas group_by and set mean"
   ]
  },
  {
   "cell_type": "code",
   "execution_count": 17,
   "id": "popular-cleveland",
   "metadata": {},
   "outputs": [
    {
     "data": {
      "text/plain": [
       "age\n",
       "0     4.508333\n",
       "1     5.457143\n",
       "2     5.712500\n",
       "3     6.553846\n",
       "4     7.052941\n",
       "5     7.647059\n",
       "6     8.005263\n",
       "7     8.190909\n",
       "8     8.303704\n",
       "9     9.243750\n",
       "10    9.066667\n",
       "11    9.100000\n",
       "12    9.757143\n",
       "Name: BMXWT, dtype: float64"
      ]
     },
     "execution_count": 17,
     "metadata": {},
     "output_type": "execute_result"
    }
   ],
   "source": [
    "girl_wts_month"
   ]
  },
  {
   "cell_type": "markdown",
   "id": "wooden-prayer",
   "metadata": {},
   "source": [
    "- We calculate the difference between the mean weights of boys and girls for each month"
   ]
  },
  {
   "cell_type": "code",
   "execution_count": 18,
   "id": "apart-jenny",
   "metadata": {},
   "outputs": [],
   "source": [
    "mean_difference = boy_wts_month - girl_wts_month"
   ]
  },
  {
   "cell_type": "code",
   "execution_count": 19,
   "id": "derived-bookmark",
   "metadata": {},
   "outputs": [
    {
     "data": {
      "text/plain": [
       "age\n",
       "0     0.286111\n",
       "1     0.334524\n",
       "2     0.948611\n",
       "3     0.446154\n",
       "4     0.742059\n",
       "5     0.877941\n",
       "6     0.258373\n",
       "7     0.870202\n",
       "8     1.018519\n",
       "9     0.850000\n",
       "10    1.297619\n",
       "11    0.863636\n",
       "12    0.765934\n",
       "Name: BMXWT, dtype: float64"
      ]
     },
     "execution_count": 19,
     "metadata": {},
     "output_type": "execute_result"
    }
   ],
   "source": [
    "mean_difference"
   ]
  },
  {
   "cell_type": "markdown",
   "id": "faced-spyware",
   "metadata": {},
   "source": [
    "\n",
    "- We make a line plot showing two lines: one for boys' mean weights months 0-12, and one for girls' mean weights 0-12\n"
   ]
  },
  {
   "cell_type": "code",
   "execution_count": 20,
   "id": "foreign-thread",
   "metadata": {},
   "outputs": [
    {
     "data": {
      "text/plain": [
       "<Axes: xlabel='age'>"
      ]
     },
     "execution_count": 20,
     "metadata": {},
     "output_type": "execute_result"
    },
    {
     "data": {
      "image/png": "[encoded data removed]",
      "text/plain": [
       "<Figure size 640x480 with 1 Axes>"
      ]
     },
     "metadata": {},
     "output_type": "display_data"
    }
   ],
   "source": [
    "month_wts = pd.DataFrame({'boys': boy_wts_month, 'girls': girl_wts_month})\n",
    "month_wts.index = month_wts.index.astype('int')\n",
    "month_wts.plot()"
   ]
  },
  {
   "cell_type": "markdown",
   "id": "greenhouse-thomson",
   "metadata": {},
   "source": [
    "### Comments:\n",
    "\n",
    "The data shows that for each month, the mean weight of baby boys is greater than the mean weight of baby girls.\n",
    "\n",
    "The mean weight of girls was never greater than the mean weight of boys."
   ]
  },
  {
   "cell_type": "markdown",
   "id": "comic-drunk",
   "metadata": {},
   "source": [
    "## What is the relationship between height, leg length, and arm length? Does this relationship change with age?"
   ]
  },
  {
   "cell_type": "markdown",
   "id": "included-puppy",
   "metadata": {},
   "source": [
    "The variable for age in years is `RIDAGEYR`\n",
    "-https://wwwn.cdc.gov/Nchs/Nhanes/2015-2016/DEMO_I.htm#RIDAGEYR\n",
    "\n",
    "The variables for height, leg length, and arm length are: `BMXHT`, `BMXLEG`, `BMXARML`\n",
    "\n",
    "- https://wwwn.cdc.gov/Nchs/Nhanes/2015-2016/BMX_I.htm#BMXHT\n",
    "- https://wwwn.cdc.gov/Nchs/Nhanes/2015-2016/BMX_I.htm#BMXLEG\n",
    "- https://wwwn.cdc.gov/Nchs/Nhanes/2015-2016/BMX_I.htm#BMXARML"
   ]
  },
  {
   "cell_type": "markdown",
   "id": "ranking-poster",
   "metadata": {},
   "source": [
    "- We filter the data to all adults ( arbitrarily, I choose age 20 and up), who have all three measurements of height, upper leg length, and upper arm length."
   ]
  },
  {
   "cell_type": "code",
   "execution_count": 21,
   "id": "satisfactory-software",
   "metadata": {},
   "outputs": [
    {
     "name": "stdout",
     "output_type": "stream",
     "text": [
      "<class 'pandas.core.frame.DataFrame'>\n",
      "Index: 5086 entries, 0 to 9543\n",
      "Data columns (total 4 columns):\n",
      " #   Column    Non-Null Count  Dtype  \n",
      "---  ------    --------------  -----  \n",
      " 0   BMXHT     5086 non-null   float64\n",
      " 1   BMXLEG    5086 non-null   float64\n",
      " 2   BMXARML   5086 non-null   float64\n",
      " 3   RIDAGEYR  5086 non-null   float64\n",
      "dtypes: float64(4)\n",
      "memory usage: 198.7 KB\n",
      "None\n"
     ]
    }
   ],
   "source": [
    "limbs = merged.loc[:, ['BMXHT', 'BMXLEG', 'BMXARML', 'RIDAGEYR']].copy()  # extract the needed columns\n",
    "limbs = limbs.dropna()  # get rid of rows with missing values\n",
    "adults = limbs.loc[limbs.RIDAGEYR >= 20,].copy() # subset to those with Age 20 and up\n",
    "print(adults.info())"
   ]
  },
  {
   "cell_type": "markdown",
   "id": "welcome-discipline",
   "metadata": {},
   "source": [
    "There are 5086 rows"
   ]
  },
  {
   "cell_type": "markdown",
   "id": "graduate-accreditation",
   "metadata": {},
   "source": [
    "Let's look at the correlation between:\n",
    "\n",
    "   - standing height and upper leg length\n",
    "   - standing height and upper arm length\n",
    "   - upper leg length and upper arm length"
   ]
  },
  {
   "cell_type": "code",
   "execution_count": 22,
   "id": "answering-visibility",
   "metadata": {},
   "outputs": [
    {
     "name": "stdout",
     "output_type": "stream",
     "text": [
      "            BMXHT    BMXLEG   BMXARML\n",
      "BMXHT    1.000000  0.787449  0.797873\n",
      "BMXLEG   0.787449  1.000000  0.629369\n",
      "BMXARML  0.797873  0.629369  1.000000\n"
     ]
    }
   ],
   "source": [
    "print(adults[['BMXHT', 'BMXLEG', 'BMXARML']].corr())  # correlation values"
   ]
  },
  {
   "cell_type": "markdown",
   "id": "particular-festival",
   "metadata": {},
   "source": [
    "I'll use `pandas.cut()` to make adult age groups by decade: i.e. adults aged 20-29.9, adults aged 30-39.9, ... adults aged 70-79.9, adults aged 80+ (7 groups total).\n",
    "\n",
    "I'll add the column to the filtered data.\n",
    "\n",
    "https://pandas.pydata.org/pandas-docs/stable/reference/api/pandas.cut.html"
   ]
  },
  {
   "cell_type": "code",
   "execution_count": 23,
   "id": "alike-still",
   "metadata": {},
   "outputs": [],
   "source": [
    "agegroups = pd.cut(adults.RIDAGEYR, bins = np.arange(20, 99, 10), right = False)\n"
   ]
  },
  {
   "cell_type": "code",
   "execution_count": 24,
   "id": "232baf9a",
   "metadata": {},
   "outputs": [
    {
     "data": {
      "text/plain": [
       "0       [60, 70)\n",
       "1       [50, 60)\n",
       "2       [70, 80)\n",
       "3       [50, 60)\n",
       "4       [40, 50)\n",
       "          ...   \n",
       "9536    [70, 80)\n",
       "9537    [20, 30)\n",
       "9538    [80, 90)\n",
       "9541    [30, 40)\n",
       "9543    [20, 30)\n",
       "Name: RIDAGEYR, Length: 5086, dtype: category\n",
       "Categories (7, interval[int64, left]): [[20, 30) < [30, 40) < [40, 50) < [50, 60) < [60, 70) < [70, 80) < [80, 90)]"
      ]
     },
     "execution_count": 24,
     "metadata": {},
     "output_type": "execute_result"
    }
   ],
   "source": [
    "agegroups"
   ]
  },
  {
   "cell_type": "code",
   "execution_count": 25,
   "id": "8b2f624e",
   "metadata": {},
   "outputs": [],
   "source": [
    "adults.loc[:,'age_cat'] = agegroups"
   ]
  },
  {
   "cell_type": "code",
   "execution_count": 26,
   "id": "fb53b2b4",
   "metadata": {},
   "outputs": [
    {
     "data": {
      "text/html": [
       "<div>\n",
       "<style scoped>\n",
       "    .dataframe tbody tr th:only-of-type {\n",
       "        vertical-align: middle;\n",
       "    }\n",
       "\n",
       "    .dataframe tbody tr th {\n",
       "        vertical-align: top;\n",
       "    }\n",
       "\n",
       "    .dataframe thead th {\n",
       "        text-align: right;\n",
       "    }\n",
       "</style>\n",
       "<table border=\"1\" class=\"dataframe\">\n",
       "  <thead>\n",
       "    <tr style=\"text-align: right;\">\n",
       "      <th></th>\n",
       "      <th>BMXHT</th>\n",
       "      <th>BMXLEG</th>\n",
       "      <th>BMXARML</th>\n",
       "      <th>RIDAGEYR</th>\n",
       "      <th>age_cat</th>\n",
       "    </tr>\n",
       "  </thead>\n",
       "  <tbody>\n",
       "    <tr>\n",
       "      <th>0</th>\n",
       "      <td>184.5</td>\n",
       "      <td>43.3</td>\n",
       "      <td>43.6</td>\n",
       "      <td>62.0</td>\n",
       "      <td>[60, 70)</td>\n",
       "    </tr>\n",
       "    <tr>\n",
       "      <th>1</th>\n",
       "      <td>171.4</td>\n",
       "      <td>38.0</td>\n",
       "      <td>40.0</td>\n",
       "      <td>53.0</td>\n",
       "      <td>[50, 60)</td>\n",
       "    </tr>\n",
       "    <tr>\n",
       "      <th>2</th>\n",
       "      <td>170.1</td>\n",
       "      <td>35.6</td>\n",
       "      <td>37.0</td>\n",
       "      <td>78.0</td>\n",
       "      <td>[70, 80)</td>\n",
       "    </tr>\n",
       "    <tr>\n",
       "      <th>3</th>\n",
       "      <td>160.9</td>\n",
       "      <td>38.5</td>\n",
       "      <td>37.7</td>\n",
       "      <td>56.0</td>\n",
       "      <td>[50, 60)</td>\n",
       "    </tr>\n",
       "    <tr>\n",
       "      <th>4</th>\n",
       "      <td>164.9</td>\n",
       "      <td>37.4</td>\n",
       "      <td>36.0</td>\n",
       "      <td>42.0</td>\n",
       "      <td>[40, 50)</td>\n",
       "    </tr>\n",
       "    <tr>\n",
       "      <th>...</th>\n",
       "      <td>...</td>\n",
       "      <td>...</td>\n",
       "      <td>...</td>\n",
       "      <td>...</td>\n",
       "      <td>...</td>\n",
       "    </tr>\n",
       "    <tr>\n",
       "      <th>9536</th>\n",
       "      <td>165.8</td>\n",
       "      <td>38.2</td>\n",
       "      <td>37.0</td>\n",
       "      <td>76.0</td>\n",
       "      <td>[70, 80)</td>\n",
       "    </tr>\n",
       "    <tr>\n",
       "      <th>9537</th>\n",
       "      <td>182.2</td>\n",
       "      <td>43.4</td>\n",
       "      <td>41.8</td>\n",
       "      <td>26.0</td>\n",
       "      <td>[20, 30)</td>\n",
       "    </tr>\n",
       "    <tr>\n",
       "      <th>9538</th>\n",
       "      <td>152.2</td>\n",
       "      <td>31.3</td>\n",
       "      <td>37.5</td>\n",
       "      <td>80.0</td>\n",
       "      <td>[80, 90)</td>\n",
       "    </tr>\n",
       "    <tr>\n",
       "      <th>9541</th>\n",
       "      <td>173.3</td>\n",
       "      <td>40.3</td>\n",
       "      <td>37.5</td>\n",
       "      <td>35.0</td>\n",
       "      <td>[30, 40)</td>\n",
       "    </tr>\n",
       "    <tr>\n",
       "      <th>9543</th>\n",
       "      <td>165.0</td>\n",
       "      <td>38.2</td>\n",
       "      <td>33.5</td>\n",
       "      <td>24.0</td>\n",
       "      <td>[20, 30)</td>\n",
       "    </tr>\n",
       "  </tbody>\n",
       "</table>\n",
       "<p>5086 rows × 5 columns</p>\n",
       "</div>"
      ],
      "text/plain": [
       "      BMXHT  BMXLEG  BMXARML  RIDAGEYR   age_cat\n",
       "0     184.5    43.3     43.6      62.0  [60, 70)\n",
       "1     171.4    38.0     40.0      53.0  [50, 60)\n",
       "2     170.1    35.6     37.0      78.0  [70, 80)\n",
       "3     160.9    38.5     37.7      56.0  [50, 60)\n",
       "4     164.9    37.4     36.0      42.0  [40, 50)\n",
       "...     ...     ...      ...       ...       ...\n",
       "9536  165.8    38.2     37.0      76.0  [70, 80)\n",
       "9537  182.2    43.4     41.8      26.0  [20, 30)\n",
       "9538  152.2    31.3     37.5      80.0  [80, 90)\n",
       "9541  173.3    40.3     37.5      35.0  [30, 40)\n",
       "9543  165.0    38.2     33.5      24.0  [20, 30)\n",
       "\n",
       "[5086 rows x 5 columns]"
      ]
     },
     "execution_count": 26,
     "metadata": {},
     "output_type": "execute_result"
    }
   ],
   "source": [
    "adults"
   ]
  },
  {
   "cell_type": "markdown",
   "id": "tired-travel",
   "metadata": {},
   "source": [
    "- For each age group, we calculate the mean of the three values."
   ]
  },
  {
   "cell_type": "code",
   "execution_count": 27,
   "id": "52fb1228",
   "metadata": {},
   "outputs": [
    {
     "data": {
      "text/html": [
       "<div>\n",
       "<style scoped>\n",
       "    .dataframe tbody tr th:only-of-type {\n",
       "        vertical-align: middle;\n",
       "    }\n",
       "\n",
       "    .dataframe tbody tr th {\n",
       "        vertical-align: top;\n",
       "    }\n",
       "\n",
       "    .dataframe thead th {\n",
       "        text-align: right;\n",
       "    }\n",
       "</style>\n",
       "<table border=\"1\" class=\"dataframe\">\n",
       "  <thead>\n",
       "    <tr style=\"text-align: right;\">\n",
       "      <th></th>\n",
       "      <th>BMXHT</th>\n",
       "      <th>BMXLEG</th>\n",
       "      <th>BMXARML</th>\n",
       "    </tr>\n",
       "    <tr>\n",
       "      <th>age_cat</th>\n",
       "      <th></th>\n",
       "      <th></th>\n",
       "      <th></th>\n",
       "    </tr>\n",
       "  </thead>\n",
       "  <tbody>\n",
       "    <tr>\n",
       "      <th>[20, 30)</th>\n",
       "      <td>167.879617</td>\n",
       "      <td>40.064189</td>\n",
       "      <td>37.068919</td>\n",
       "    </tr>\n",
       "    <tr>\n",
       "      <th>[30, 40)</th>\n",
       "      <td>167.488202</td>\n",
       "      <td>39.556128</td>\n",
       "      <td>37.154754</td>\n",
       "    </tr>\n",
       "    <tr>\n",
       "      <th>[40, 50)</th>\n",
       "      <td>166.563244</td>\n",
       "      <td>38.680863</td>\n",
       "      <td>37.094632</td>\n",
       "    </tr>\n",
       "    <tr>\n",
       "      <th>[50, 60)</th>\n",
       "      <td>166.351476</td>\n",
       "      <td>38.163400</td>\n",
       "      <td>37.188784</td>\n",
       "    </tr>\n",
       "    <tr>\n",
       "      <th>[60, 70)</th>\n",
       "      <td>164.977480</td>\n",
       "      <td>37.342707</td>\n",
       "      <td>37.252859</td>\n",
       "    </tr>\n",
       "    <tr>\n",
       "      <th>[70, 80)</th>\n",
       "      <td>164.728016</td>\n",
       "      <td>36.984049</td>\n",
       "      <td>37.350102</td>\n",
       "    </tr>\n",
       "    <tr>\n",
       "      <th>[80, 90)</th>\n",
       "      <td>162.097091</td>\n",
       "      <td>36.516000</td>\n",
       "      <td>36.908000</td>\n",
       "    </tr>\n",
       "  </tbody>\n",
       "</table>\n",
       "</div>"
      ],
      "text/plain": [
       "               BMXHT     BMXLEG    BMXARML\n",
       "age_cat                                   \n",
       "[20, 30)  167.879617  40.064189  37.068919\n",
       "[30, 40)  167.488202  39.556128  37.154754\n",
       "[40, 50)  166.563244  38.680863  37.094632\n",
       "[50, 60)  166.351476  38.163400  37.188784\n",
       "[60, 70)  164.977480  37.342707  37.252859\n",
       "[70, 80)  164.728016  36.984049  37.350102\n",
       "[80, 90)  162.097091  36.516000  36.908000"
      ]
     },
     "execution_count": 27,
     "metadata": {},
     "output_type": "execute_result"
    }
   ],
   "source": [
    "summary = adults.groupby('age_cat', observed=True).mean().loc[:,['BMXHT','BMXLEG','BMXARML']]\n",
    "summary"
   ]
  },
  {
   "cell_type": "code",
   "execution_count": 28,
   "id": "random-teacher",
   "metadata": {},
   "outputs": [
    {
     "name": "stdout",
     "output_type": "stream",
     "text": [
      "         BMXHT     BMXLEG    BMXARML\n",
      "20  167.879617  40.064189  37.068919\n",
      "30  167.488202  39.556128  37.154754\n",
      "40  166.563244  38.680863  37.094632\n",
      "50  166.351476  38.163400  37.188784\n",
      "60  164.977480  37.342707  37.252859\n",
      "70  164.728016  36.984049  37.350102\n",
      "80  162.097091  36.516000  36.908000\n"
     ]
    }
   ],
   "source": [
    "summary.index = np.arange(20,90,10)  # relabel the index\n",
    "print(summary)"
   ]
  },
  {
   "cell_type": "code",
   "execution_count": 29,
   "id": "identified-province",
   "metadata": {},
   "outputs": [
    {
     "data": {
      "text/plain": [
       "<Axes: >"
      ]
     },
     "execution_count": 29,
     "metadata": {},
     "output_type": "execute_result"
    },
    {
     "data": {
      "image/png": "[encoded data removed]",
      "text/plain": [
       "<Figure size 640x480 with 1 Axes>"
      ]
     },
     "metadata": {},
     "output_type": "display_data"
    }
   ],
   "source": [
    "summary.plot()"
   ]
  },
  {
   "cell_type": "markdown",
   "id": "recreational-router",
   "metadata": {},
   "source": [
    "- Because leg length and arm length are similar in scale, but height is not, I add a fourth column - 'adjusted mean height' - which is the mean height minus 128 cm."
   ]
  },
  {
   "cell_type": "code",
   "execution_count": 30,
   "id": "patient-breed",
   "metadata": {},
   "outputs": [
    {
     "data": {
      "text/plain": [
       "<matplotlib.legend.Legend at 0x1defcc0d820>"
      ]
     },
     "execution_count": 30,
     "metadata": {},
     "output_type": "execute_result"
    },
    {
     "data": {
      "image/png": "[encoded data removed]",
      "text/plain": [
       "<Figure size 640x480 with 1 Axes>"
      ]
     },
     "metadata": {},
     "output_type": "display_data"
    }
   ],
   "source": [
    "summary['adjusted height'] = summary.BMXHT - 128\n",
    "summary[['BMXLEG','BMXARML','adjusted height']].plot()\n",
    "plt.legend()"
   ]
  },
  {
   "cell_type": "markdown",
   "id": "elementary-candle",
   "metadata": {},
   "source": [
    "### Comments\n",
    "\n",
    "There seems to be a very strong relationship between leg length and height. As people age, the leg length and height both seem to shrink over time.\n",
    "\n",
    "Arm lenght, on the other hand does not seem to change very much over time. Arm length remains steady, possibly even getting longer over time."
   ]
  },
  {
   "cell_type": "markdown",
   "id": "e8b317a1",
   "metadata": {},
   "source": [
    "## Is there a relationship between height or weight and income?"
   ]
  },
  {
   "cell_type": "code",
   "execution_count": 31,
   "id": "126c6672",
   "metadata": {},
   "outputs": [
    {
     "name": "stdout",
     "output_type": "stream",
     "text": [
      "<class 'pandas.core.frame.DataFrame'>\n",
      "Index: 5234 entries, 0 to 9543\n",
      "Data columns (total 4 columns):\n",
      " #   Column    Non-Null Count  Dtype  \n",
      "---  ------    --------------  -----  \n",
      " 0   BMXHT     5234 non-null   float64\n",
      " 1   BMXWT     5234 non-null   float64\n",
      " 2   INDHHIN2  5234 non-null   float64\n",
      " 3   RIDAGEYR  5234 non-null   float64\n",
      "dtypes: float64(4)\n",
      "memory usage: 204.5 KB\n",
      "None\n"
     ]
    }
   ],
   "source": [
    "income_weight = merged.loc[:, ['BMXHT', 'BMXWT', 'INDHHIN2', 'RIDAGEYR']].copy()  # extract the needed columns\n",
    "income_weight = income_weight.dropna()  # get rid of rows with missing values\n",
    "adults_inc_wt = income_weight.loc[income_weight.RIDAGEYR >= 20,].copy() # subset to those with Age 20 and up\n",
    "print(adults_inc_wt.info())"
   ]
  },
  {
   "cell_type": "code",
   "execution_count": 32,
   "id": "4588ea33",
   "metadata": {},
   "outputs": [
    {
     "data": {
      "text/html": [
       "<div>\n",
       "<style scoped>\n",
       "    .dataframe tbody tr th:only-of-type {\n",
       "        vertical-align: middle;\n",
       "    }\n",
       "\n",
       "    .dataframe tbody tr th {\n",
       "        vertical-align: top;\n",
       "    }\n",
       "\n",
       "    .dataframe thead th {\n",
       "        text-align: right;\n",
       "    }\n",
       "</style>\n",
       "<table border=\"1\" class=\"dataframe\">\n",
       "  <thead>\n",
       "    <tr style=\"text-align: right;\">\n",
       "      <th></th>\n",
       "      <th>BMXHT</th>\n",
       "      <th>BMXWT</th>\n",
       "      <th>RIDAGEYR</th>\n",
       "    </tr>\n",
       "    <tr>\n",
       "      <th>INDHHIN2</th>\n",
       "      <th></th>\n",
       "      <th></th>\n",
       "      <th></th>\n",
       "    </tr>\n",
       "  </thead>\n",
       "  <tbody>\n",
       "    <tr>\n",
       "      <th>1.0</th>\n",
       "      <td>163.310345</td>\n",
       "      <td>79.161207</td>\n",
       "      <td>47.422414</td>\n",
       "    </tr>\n",
       "    <tr>\n",
       "      <th>2.0</th>\n",
       "      <td>164.373737</td>\n",
       "      <td>82.143939</td>\n",
       "      <td>54.540404</td>\n",
       "    </tr>\n",
       "    <tr>\n",
       "      <th>3.0</th>\n",
       "      <td>162.885535</td>\n",
       "      <td>80.744969</td>\n",
       "      <td>57.805031</td>\n",
       "    </tr>\n",
       "    <tr>\n",
       "      <th>4.0</th>\n",
       "      <td>164.984431</td>\n",
       "      <td>81.201198</td>\n",
       "      <td>53.002994</td>\n",
       "    </tr>\n",
       "    <tr>\n",
       "      <th>5.0</th>\n",
       "      <td>165.352537</td>\n",
       "      <td>82.597612</td>\n",
       "      <td>51.507463</td>\n",
       "    </tr>\n",
       "    <tr>\n",
       "      <th>6.0</th>\n",
       "      <td>165.277990</td>\n",
       "      <td>81.451300</td>\n",
       "      <td>51.038128</td>\n",
       "    </tr>\n",
       "    <tr>\n",
       "      <th>7.0</th>\n",
       "      <td>165.874104</td>\n",
       "      <td>81.715339</td>\n",
       "      <td>46.727092</td>\n",
       "    </tr>\n",
       "    <tr>\n",
       "      <th>8.0</th>\n",
       "      <td>166.923256</td>\n",
       "      <td>83.625116</td>\n",
       "      <td>46.918605</td>\n",
       "    </tr>\n",
       "    <tr>\n",
       "      <th>9.0</th>\n",
       "      <td>166.626888</td>\n",
       "      <td>84.662840</td>\n",
       "      <td>47.407855</td>\n",
       "    </tr>\n",
       "    <tr>\n",
       "      <th>10.0</th>\n",
       "      <td>166.618797</td>\n",
       "      <td>81.473684</td>\n",
       "      <td>46.436090</td>\n",
       "    </tr>\n",
       "    <tr>\n",
       "      <th>12.0</th>\n",
       "      <td>164.984865</td>\n",
       "      <td>79.660541</td>\n",
       "      <td>50.810811</td>\n",
       "    </tr>\n",
       "    <tr>\n",
       "      <th>13.0</th>\n",
       "      <td>164.267949</td>\n",
       "      <td>83.615385</td>\n",
       "      <td>55.217949</td>\n",
       "    </tr>\n",
       "    <tr>\n",
       "      <th>14.0</th>\n",
       "      <td>167.592857</td>\n",
       "      <td>83.000198</td>\n",
       "      <td>45.220238</td>\n",
       "    </tr>\n",
       "    <tr>\n",
       "      <th>15.0</th>\n",
       "      <td>168.619908</td>\n",
       "      <td>81.614960</td>\n",
       "      <td>47.302647</td>\n",
       "    </tr>\n",
       "    <tr>\n",
       "      <th>77.0</th>\n",
       "      <td>164.278182</td>\n",
       "      <td>79.382727</td>\n",
       "      <td>54.045455</td>\n",
       "    </tr>\n",
       "    <tr>\n",
       "      <th>99.0</th>\n",
       "      <td>163.837037</td>\n",
       "      <td>76.108642</td>\n",
       "      <td>54.493827</td>\n",
       "    </tr>\n",
       "  </tbody>\n",
       "</table>\n",
       "</div>"
      ],
      "text/plain": [
       "               BMXHT      BMXWT   RIDAGEYR\n",
       "INDHHIN2                                  \n",
       "1.0       163.310345  79.161207  47.422414\n",
       "2.0       164.373737  82.143939  54.540404\n",
       "3.0       162.885535  80.744969  57.805031\n",
       "4.0       164.984431  81.201198  53.002994\n",
       "5.0       165.352537  82.597612  51.507463\n",
       "6.0       165.277990  81.451300  51.038128\n",
       "7.0       165.874104  81.715339  46.727092\n",
       "8.0       166.923256  83.625116  46.918605\n",
       "9.0       166.626888  84.662840  47.407855\n",
       "10.0      166.618797  81.473684  46.436090\n",
       "12.0      164.984865  79.660541  50.810811\n",
       "13.0      164.267949  83.615385  55.217949\n",
       "14.0      167.592857  83.000198  45.220238\n",
       "15.0      168.619908  81.614960  47.302647\n",
       "77.0      164.278182  79.382727  54.045455\n",
       "99.0      163.837037  76.108642  54.493827"
      ]
     },
     "execution_count": 32,
     "metadata": {},
     "output_type": "execute_result"
    }
   ],
   "source": [
    "adults_inc_wt.groupby('INDHHIN2').mean()"
   ]
  },
  {
   "cell_type": "code",
   "execution_count": 33,
   "id": "83312d12",
   "metadata": {},
   "outputs": [
    {
     "data": {
      "text/plain": [
       "<Axes: xlabel='INDHHIN2'>"
      ]
     },
     "execution_count": 33,
     "metadata": {},
     "output_type": "execute_result"
    },
    {
     "data": {
      "image/png": "[encoded data removed]",
      "text/plain": [
       "<Figure size 640x480 with 1 Axes>"
      ]
     },
     "metadata": {},
     "output_type": "display_data"
    }
   ],
   "source": [
    "adults_inc_wt.loc[adults_inc_wt.INDHHIN2.isin([1,2,3,4,5,6,7,8,9,10,14,15]),:].groupby('INDHHIN2').mean()['BMXWT'].plot()"
   ]
  },
  {
   "cell_type": "code",
   "execution_count": 34,
   "id": "65c5ce95",
   "metadata": {},
   "outputs": [
    {
     "data": {
      "text/plain": [
       "<Axes: xlabel='INDHHIN2'>"
      ]
     },
     "execution_count": 34,
     "metadata": {},
     "output_type": "execute_result"
    },
    {
     "data": {
      "image/png": "[encoded data removed]",
      "text/plain": [
       "<Figure size 640x480 with 1 Axes>"
      ]
     },
     "metadata": {},
     "output_type": "display_data"
    }
   ],
   "source": [
    "adults_inc_wt.loc[adults_inc_wt.INDHHIN2.isin([1,2,3,4,5,6,7,8,9,10,14,15]),:].groupby('INDHHIN2').mean()['BMXHT'].plot()"
   ]
  }
 ],
 "metadata": {
  "kernelspec": {
   "display_name": "Python 3",
   "language": "python",
   "name": "python3"
  },
  "language_info": {
   "codemirror_mode": {
    "name": "ipython",
    "version": 3
   },
   "file_extension": ".py",
   "mimetype": "text/x-python",
   "name": "python",
   "nbconvert_exporter": "python",
   "pygments_lexer": "ipython3",
   "version": "3.12.5"
  }
 },
 "nbformat": 4,
 "nbformat_minor": 5
}
